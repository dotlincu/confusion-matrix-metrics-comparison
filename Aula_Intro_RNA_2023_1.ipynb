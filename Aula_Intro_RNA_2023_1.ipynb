{
  "cells": [
    {
      "cell_type": "markdown",
      "metadata": {
        "id": "Jt96aayRiIP_"
      },
      "source": [
        "# **O Perceptron Simples:**\n",
        "Implementando um perceptron para simular a porla lógica AND. Depois testar a porta XOR."
      ]
    },
    {
      "cell_type": "code",
      "execution_count": 1,
      "metadata": {
        "colab": {
          "base_uri": "https://localhost:8080/"
        },
        "id": "0OyxuQujiHxu",
        "outputId": "91f4701f-ab60-4606-f6ab-a387e1ce926a"
      },
      "outputs": [
        {
          "name": "stdout",
          "output_type": "stream",
          "text": [
            "Esperado: [0 0 0 1]\n",
            "Previsão: [0 0 0 1]\n",
            "Pesos sinápticos: [ 0.27143338  0.13791667 -0.32031544]\n"
          ]
        }
      ],
      "source": [
        "import numpy as np\n",
        "\n",
        "class Perceptron:\n",
        "    def __init__(self, dim_entrada, taxa_aprendizado=0.01, epocas=100):\n",
        "        self.dim_entrada = dim_entrada\n",
        "        self.taxa_aprendizado = taxa_aprendizado\n",
        "        self.epocas = epocas\n",
        "        self.pesos = np.random.rand(dim_entrada + 1)  # +1 para o bias\n",
        "        self.erros = []\n",
        "\n",
        "    # Funcao Degrau\n",
        "    def funcao_ativacao(self, x):\n",
        "        return 1 if x >= 0 else 0\n",
        "\n",
        "    # Funcao de Predicao\n",
        "    def predicao(self, X):\n",
        "        X_with_bias = np.c_[X, np.ones(len(X))]\n",
        "        return np.array([self.funcao_ativacao(np.dot(x, self.pesos)) for x in X_with_bias])\n",
        "\n",
        "    # Funcao de treinamento\n",
        "    def treina(self, X, y):\n",
        "        X_with_bias = np.c_[X, np.ones(len(X))]\n",
        "        for _ in range(self.epocas):\n",
        "            total_erro = 0\n",
        "            for i in range(len(X_with_bias)):\n",
        "                erro = y[i] - self.funcao_ativacao(np.dot(X_with_bias[i], self.pesos))\n",
        "                self.pesos += self.taxa_aprendizado * erro * X_with_bias[i]\n",
        "                total_erro += int(erro != 0)\n",
        "            self.erros.append(total_erro)\n",
        "\n",
        "# Exemplo de uso (AND)\n",
        "X = np.array([[0, 0], [0, 1], [1, 0], [1, 1]])\n",
        "y = np.array([0, 0, 0, 1])\n",
        "\n",
        "perceptron = Perceptron(dim_entrada=2, taxa_aprendizado=0.1, epocas=100)\n",
        "perceptron.treina(X, y)\n",
        "\n",
        "# Testando a previsão\n",
        "print(\"Esperado:\", y)\n",
        "print(\"Previsão:\", perceptron.predicao(X))\n",
        "\n",
        "#Pesos\n",
        "print(\"Pesos sinápticos:\", perceptron.pesos)"
      ]
    },
    {
      "cell_type": "markdown",
      "metadata": {
        "id": "mYDQKIGmm75J"
      },
      "source": [
        "# A rede Percetron de Multiplas Camadas, ou rede MLP."
      ]
    },
    {
      "cell_type": "code",
      "execution_count": 2,
      "metadata": {
        "id": "Rb-xYrimp2i_"
      },
      "outputs": [],
      "source": [
        "import numpy as np\n",
        "from sklearn.datasets import make_classification\n",
        "from sklearn.datasets import make_moons\n",
        "from sklearn.model_selection import train_test_split\n",
        "import matplotlib.pyplot as plt\n",
        "from matplotlib.colors import ListedColormap\n",
        "\n",
        "\n",
        "class MLP:\n",
        "    def __init__(self, dim_entrada, dim_oculta, dim_saida, taxa_aprendizado=0.01):\n",
        "        self.dim_entrada = dim_entrada\n",
        "        self.dim_oculta = dim_oculta\n",
        "        self.dim_saida = dim_saida\n",
        "        self.taxa_aprendizado = taxa_aprendizado\n",
        "\n",
        "        # Inicialização dos pesos e bias das camadas oculta e de saída\n",
        "        self.pesos_ocultos = np.random.rand(self.dim_entrada, self.dim_oculta)\n",
        "        self.bias_ocultos = np.zeros(self.dim_oculta)\n",
        "\n",
        "        self.pesos_saida = np.random.rand(self.dim_oculta, self.dim_saida)\n",
        "        self.bias_saida = np.zeros(self.dim_saida)\n",
        "\n",
        "    # Funcao de Ativacao Sigmoide\n",
        "    def sigmoide(self, x):\n",
        "        return 1 / (1 + np.exp(-x))\n",
        "\n",
        "    # Derivada Primeirada Funcao de Ativacao Sigmoide\n",
        "    def sigmoide_derivada(self, x):\n",
        "        return x * (1 - x)\n",
        "\n",
        "    # Calculo da saída da rede MLP\n",
        "    def feedforward(self, X):\n",
        "        # Calculo da saida da Camada oculta\n",
        "        camada_oculta_entrada = np.dot(X, self.pesos_ocultos) + self.bias_ocultos\n",
        "        camada_oculta_saida = self.sigmoide(camada_oculta_entrada)\n",
        "\n",
        "        # Calculo da saida da Camada de saída\n",
        "        camada_saida_entrada = np.dot(camada_oculta_saida, self.pesos_saida) + self.bias_saida\n",
        "        saida = self.sigmoide(camada_saida_entrada)\n",
        "\n",
        "        return camada_oculta_saida, saida\n",
        "\n",
        "    def backpropagation(self, X, y, camada_oculta_saida, saida):\n",
        "        # Backpropagation\n",
        "        saida_erro = y - saida\n",
        "        saida_delta = saida_erro * self.sigmoide_derivada(saida)\n",
        "\n",
        "        camada_oculta_erro = saida_delta.dot(self.pesos_saida.T)\n",
        "        camada_oculta_delta = camada_oculta_erro * self.sigmoide_derivada(camada_oculta_saida)\n",
        "\n",
        "        # Atualização dos pesos e bias\n",
        "        self.pesos_saida += camada_oculta_saida.T.dot(saida_delta) * self.taxa_aprendizado\n",
        "        self.bias_saida += np.sum(saida_delta, axis=0) * self.taxa_aprendizado\n",
        "\n",
        "        self.pesos_ocultos += X.T.dot(camada_oculta_delta) * self.taxa_aprendizado\n",
        "        self.bias_ocultos += np.sum(camada_oculta_delta, axis=0) * self.taxa_aprendizado\n",
        "\n",
        "    def fit(self, X, y, epocas=1000):\n",
        "        for epoca in range(epocas):\n",
        "            # Forward propagation\n",
        "            camada_oculta_saida, saida = self.feedforward(X)\n",
        "            # Backpropagation\n",
        "            self.backpropagation(X, y, camada_oculta_saida, saida)\n",
        "\n",
        "    def predicao(self, X):\n",
        "        _, saida = self.feedforward(X)\n",
        "        return saida\n",
        "\n",
        "    # Função para plotar a superfície de decisão\n",
        "    def plot_decision_surface(self, X, y):\n",
        "      h = .02  # Passo da grade\n",
        "      x_min, x_max = X[:, 0].min() - 1, X[:, 0].max() + 1\n",
        "      y_min, y_max = X[:, 1].min() - 1, X[:, 1].max() + 1\n",
        "      xx, yy = np.meshgrid(np.arange(x_min, x_max, h), np.arange(y_min, y_max, h))\n",
        "      grid_points = np.c_[xx.ravel(), yy.ravel()]\n",
        "\n",
        "      Z = self.predicao(grid_points)\n",
        "      Z = Z.reshape(xx.shape)\n",
        "\n",
        "      cmap_light = ListedColormap(['#FFAAAA', '#AAFFAA'])\n",
        "      cmap_bold = ListedColormap(['#FF0000', '#00FF00'])\n",
        "\n",
        "      plt.figure(figsize=(8, 6))\n",
        "      plt.pcolormesh(xx, yy, Z, cmap=cmap_light)\n",
        "\n",
        "      # Plotar os pontos de treinamento\n",
        "      plt.scatter(X[:, 0], X[:, 1], c=y, cmap=cmap_bold, edgecolor='k', s=30)\n",
        "      plt.xlim(xx.min(), xx.max())\n",
        "      plt.ylim(yy.min(), yy.max())\n",
        "      plt.title(\"Superfície de Decisão da Rede MLP\")\n",
        "      plt.xlabel(\"Feature 1\")\n",
        "      plt.ylabel(\"Feature 2\")\n",
        "      plt.show()"
      ]
    },
    {
      "cell_type": "code",
      "execution_count": 3,
      "metadata": {
        "colab": {
          "base_uri": "https://localhost:8080/"
        },
        "id": "jq4foz-Yp7Ae",
        "outputId": "a2f089dd-55e5-41ad-d37b-ffba580784dc"
      },
      "outputs": [
        {
          "name": "stdout",
          "output_type": "stream",
          "text": [
            "Acurácia da MLP: 0.8\n"
          ]
        }
      ],
      "source": [
        "#Programa Principal\n",
        "# Gerando dados de exemplo\n",
        "#X, y = make_classification(n_samples=200, class_sep=0.5, n_features=2, n_redundant=0, n_informative=2, random_state=0, n_clusters_per_class=2)\n",
        "X, y = make_moons(n_samples=100, shuffle=True, noise=0.5, random_state=None)\n",
        "\n",
        "X_train, X_test, y_train, y_test = train_test_split(X, y, test_size=0.2, random_state=42)\n",
        "\n",
        "# Reshape dos rótulos para se adequar ao formato de saída da rede\n",
        "y_train, y_test = y_train.reshape(-1, 1), y_test.reshape(-1, 1)\n",
        "\n",
        "# Criando e treinando a MLP\n",
        "mlp = MLP(dim_entrada=2, dim_oculta=10, dim_saida=1, taxa_aprendizado=0.1)\n",
        "mlp.fit(X_train, y_train, epocas=1000)\n",
        "\n",
        "# Realizando previsões no conjunto de teste\n",
        "saida_prevista = mlp.predicao(X_test)\n",
        "\n",
        "# Convertendo as previsões para classes (0 ou 1)\n",
        "predicao_classes = (saida_prevista > 0.5).astype(int)\n",
        "\n",
        "# Calculando a acurácia\n",
        "acuracia = np.mean(predicao_classes == y_test)\n",
        "print(f'Acurácia da MLP: {acuracia}')"
      ]
    },
    {
      "cell_type": "code",
      "execution_count": 4,
      "metadata": {
        "colab": {
          "base_uri": "https://localhost:8080/",
          "height": 565
        },
        "id": "KfFGhDZLwwyo",
        "outputId": "af6ba5d7-29d0-47e8-aaab-663db1299cef"
      },
      "outputs": [
        {
          "data": {
            "image/png": "[encoded data removed]",
            "text/plain": [
              "<Figure size 800x600 with 1 Axes>"
            ]
          },
          "metadata": {},
          "output_type": "display_data"
        }
      ],
      "source": [
        "mlp.plot_decision_surface(X_test, y_test)"
      ]
    }
  ],
  "metadata": {
    "colab": {
      "provenance": []
    },
    "kernelspec": {
      "display_name": "Python 3",
      "name": "python3"
    },
    "language_info": {
      "codemirror_mode": {
        "name": "ipython",
        "version": 3
      },
      "file_extension": ".py",
      "mimetype": "text/x-python",
      "name": "python",
      "nbconvert_exporter": "python",
      "pygments_lexer": "ipython3",
      "version": "3.10.9"
    }
  },
  "nbformat": 4,
  "nbformat_minor": 0
}
